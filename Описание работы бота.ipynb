{
 "cells": [
  {
   "cell_type": "markdown",
   "metadata": {},
   "source": [
    "Доброго времени суток!"
   ]
  },
  {
   "cell_type": "markdown",
   "metadata": {},
   "source": [
    "Для начала напишем class MusicFinder, который сможет распарсить сообщение пользователя и грамотно запомнить url"
   ]
  },
  {
   "cell_type": "code",
   "execution_count": null,
   "metadata": {},
   "outputs": [],
   "source": [
    "from bs4 import BeautifulSoup\n",
    "import requests\n",
    "from gtts import gTTS\n",
    "\n",
    "class MusicFinder:\n",
    "    def __init__(self,\n",
    "                 song_name: str):\n",
    "        singer, song = song_name.split(\"/\")\n",
    "        singer = singer.lower()\n",
    "        singer = singer.replace(\" \", \"_\")\n",
    "        song = song.lower()\n",
    "        song = song.replace(\" \", \"_\")\n",
    "        self._song_name = song_name\n",
    "        self._singer = singer\n",
    "        self._song = song\n",
    "        self._url = self._singer[0] + \"/\" + self._singer + \"/\" + self._song"
   ]
  },
  {
   "cell_type": "markdown",
   "metadata": {},
   "source": [
    "Дальше напишем для него две функции - найти текст песни и найти перевод песни"
   ]
  },
  {
   "cell_type": "code",
   "execution_count": null,
   "metadata": {},
   "outputs": [],
   "source": [
    "    def find_original_text(self) -> str:\n",
    "        url = f'https://en.lyrsense.com/{self._singer}/{self._song}'\n",
    "        response = requests.get(url)\n",
    "\n",
    "        if response.status_code != 200:\n",
    "            return \"Приношу свои извинения, я не смог найти данную песню\"\n",
    "\n",
    "        soup = BeautifulSoup(response.text, 'lxml')\n",
    "        types_1 = soup.find_all(\"span\", \"puzEng\")\n",
    "        final_answer = \"\"\n",
    "        for i in types_1:\n",
    "            final_answer += i.text\n",
    "            final_answer += \"\\n\"\n",
    "        return final_answer"
   ]
  },
  {
   "cell_type": "code",
   "execution_count": null,
   "metadata": {},
   "outputs": [],
   "source": [
    "    def find_translation(self) -> str:\n",
    "        url = f'https://en.lyrsense.com/{self._singer}/{self._song}'\n",
    "        response = requests.get(url)\n",
    "\n",
    "        if response.status_code != 200:\n",
    "            return \"Приношу свои извинения, я не смог найти данную песню\"\n",
    "\n",
    "        soup = BeautifulSoup(response.text, 'lxml')\n",
    "        types_1 = soup.find_all(\"p\", id == \"ru_text\")[1]\n",
    "        final_answer = \"\"\n",
    "        for i in types_1:\n",
    "            final_answer += i.text\n",
    "            final_answer += \"\\n\"\n",
    "        return final_answer\n"
   ]
  },
  {
   "cell_type": "markdown",
   "metadata": {},
   "source": [
    "Пишем функцию для озвучки английского текста"
   ]
  },
  {
   "cell_type": "code",
   "execution_count": null,
   "metadata": {},
   "outputs": [],
   "source": [
    "    def dub_song(self):\n",
    "        txt = self.find_original_text()\n",
    "        myobj = gTTS(text=txt, lang=\"en\", slow=False)\n",
    "        myobj.save('bad_words_in_strange_order.mp3')"
   ]
  },
  {
   "cell_type": "markdown",
   "metadata": {},
   "source": [
    "Дальше у нас идет вторая часть проекта - написание телеграм бота, который будет обрабатывать запросы"
   ]
  },
  {
   "cell_type": "code",
   "execution_count": null,
   "metadata": {},
   "outputs": [],
   "source": [
    "import telebot\n",
    "from telebot import types\n",
    "\n",
    "\n",
    "bot = telebot.TeleBot(\"1824128367:AAEThtMft1hFinf7j74GqiSgRhERwP142ZY\") # подключаем бота"
   ]
  },
  {
   "cell_type": "markdown",
   "metadata": {},
   "source": [
    "Прописываем что он будет делать при команде /start и /help - выдавать клавиатуру с опциями и давать описание"
   ]
  },
  {
   "cell_type": "code",
   "execution_count": null,
   "metadata": {},
   "outputs": [],
   "source": [
    "@bot.message_handler(commands=['start', 'help'])\n",
    "def send_keyboard(message, text=\"Привет, я музбот! Я умею находить слова английских песен и их переводы! \"\n",
    "                                \"Давай Начнем?\"):\n",
    "    keyboard = types.ReplyKeyboardMarkup(row_width=2)\n",
    "    itembtn1 = types.KeyboardButton('Найти текст песни')\n",
    "    itembtn2 = types.KeyboardButton('Найти перевод песни')\n",
    "    itembtn3 = types.KeyboardButton('Озвучь песню')\n",
    "    itembtn4 = types.KeyboardButton('Заканчиваем')\n",
    "    keyboard.add(itembtn1, itembtn2)\n",
    "    keyboard.add(itembtn3, itembtn4)\n",
    "    msg = bot.send_message(message.from_user.id,\n",
    "                           text=text, reply_markup=keyboard)\n",
    "    bot.register_next_step_handler(msg, callback_worker)\n"
   ]
  },
  {
   "cell_type": "markdown",
   "metadata": {},
   "source": [
    "Прописываем callback_worker, который будет обрабатывать сообщения и перенаправлять их "
   ]
  },
  {
   "cell_type": "code",
   "execution_count": null,
   "metadata": {},
   "outputs": [],
   "source": [
    "def callback_worker(call):\n",
    "    if call.text == \"Найти текст песни\":\n",
    "        msg = bot.send_message(call.chat.id,\n",
    "                               'Давайте найдем текст песни! Напишите имя исполнителя и название песни через /. '\n",
    "                               'Например: Sia/Chandelier')\n",
    "        bot.register_next_step_handler(msg, search_song)\n",
    "    elif call.text == \"Найти перевод песни\":\n",
    "        msg = bot.send_message(call.chat.id,\n",
    "                               'Давайте найдем перевод песни! Напишите имя исполнителя и название песни через /. '\n",
    "                               'Например: Sia/Chandelier')\n",
    "        bot.register_next_step_handler(msg, search_translation)\n",
    "    elif call.text == \"Озвучь песню\":\n",
    "        msg = bot.send_message(call.chat.id,\n",
    "                               'Давайте сделаем озвучку песни! Напишите имя исполнителя и название песни через /. '\n",
    "                               'Например: Sia/Chandelier')\n",
    "        bot.register_next_step_handler(msg, dub_song)\n",
    "\n",
    "    elif call.text == \"Заканчиваем\":\n",
    "        bot.send_message(call.chat.id, 'Хорошего дня! Когда захотите продолжнить нажмите на команду /start')"
   ]
  },
  {
   "cell_type": "markdown",
   "metadata": {},
   "source": [
    "Прописываем функции search_translation и search_song и dub_song"
   ]
  },
  {
   "cell_type": "code",
   "execution_count": null,
   "metadata": {},
   "outputs": [],
   "source": [
    "def search_song(msg):\n",
    "    bot.send_message(msg.chat.id, f'Операция выполняется, пытаюсь найти текст для : {msg.text}')\n",
    "    song_name = msg.text\n",
    "    music_bot = MusicFinder(song_name)\n",
    "    txt = music_bot.find_original_text()\n",
    "    bot.send_message(msg.chat.id, txt)\n",
    "    send_keyboard(msg, \"Чем еще могу помочь?\")\n",
    "\n",
    "\n",
    "def search_translation(msg):\n",
    "    bot.send_message(msg.chat.id, f'Операция выполняется, пытаюсь найти перевод для : {msg.text}')\n",
    "    song_name = msg.text\n",
    "    music_bot = MusicFinder(song_name)\n",
    "    txt = music_bot.find_translation()\n",
    "    bot.send_message(msg.chat.id, txt)\n",
    "    send_keyboard(msg, \"Чем еще могу помочь?\")\n",
    "\n",
    "\n",
    "def dub_song(msg):\n",
    "    bot.send_message(msg.chat.id, f'Операция выполняется, пытаюсь найти исполнение для, '\n",
    "                                  f'операция может занять некоторое время : {msg.text}')\n",
    "    song_name = msg.text\n",
    "    music_bot = MusicFinder(song_name)\n",
    "    music_bot.dub_song()\n",
    "    bot.send_audio(msg.chat.id, audio=open(\"bad_words_in_strange_order.mp3\", 'rb'))\n",
    "    send_keyboard(msg, \"Чем еще могу помочь?\")"
   ]
  },
  {
   "cell_type": "markdown",
   "metadata": {},
   "source": [
    "В конце прописываем что будет выдавать бот, когда не понимает команду"
   ]
  },
  {
   "cell_type": "code",
   "execution_count": null,
   "metadata": {},
   "outputs": [],
   "source": [
    "@bot.message_handler(content_types=['text'])\n",
    "def handle_docs_audio(message):\n",
    "    send_keyboard(message, text=\"Я не понимаю, выберите один из пунктов: \")\n",
    "\n",
    "\n",
    "bot.polling(none_stop=True)"
   ]
  }
 ],
 "metadata": {
  "kernelspec": {
   "display_name": "Python 3",
   "language": "python",
   "name": "python3"
  },
  "language_info": {
   "codemirror_mode": {
    "name": "ipython",
    "version": 3
   },
   "file_extension": ".py",
   "mimetype": "text/x-python",
   "name": "python",
   "nbconvert_exporter": "python",
   "pygments_lexer": "ipython3",
   "version": "3.8.5"
  }
 },
 "nbformat": 4,
 "nbformat_minor": 4
}
